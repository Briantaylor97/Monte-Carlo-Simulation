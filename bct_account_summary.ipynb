{
 "cells": [
  {
   "cell_type": "code",
   "execution_count": 1,
   "metadata": {},
   "outputs": [],
   "source": [
    "import os\n",
    "import plaid\n",
    "import requests\n",
    "import datetime\n",
    "import json\n",
    "import pandas as pd\n",
    "import pprint as pprint\n",
    "import matplotlib.pyplot as plt\n",
    "%matplotlib inline"
   ]
  },
  {
   "cell_type": "code",
   "execution_count": 2,
   "metadata": {},
   "outputs": [],
   "source": [
    "def pretty_print_response(response):\n",
    "  print(json.dumps(response, indent=4, sort_keys=True))"
   ]
  },
  {
   "cell_type": "code",
   "execution_count": 3,
   "metadata": {},
   "outputs": [],
   "source": [
    "# Extract API keys from environment variables\n",
    "PLAID_CLIENT_ID = os.getenv('PLAID_CLIENT_ID')\n",
    "PLAID_SBX_SECRET_KEY = os.getenv('PLAID_SBX_SECRET_KEY')\n",
    "PLAID_PUBLIC_KEY = os.getenv('PLAID_PUBLIC_KEY')\n",
    "PLAID_ENV = os.getenv('PLAID_ENV', 'sandbox')\n",
    "PLAID_PRODUCTS = os.getenv('PLAID_PRODUCTS', 'transactions')"
   ]
  },
  {
   "cell_type": "markdown",
   "metadata": {},
   "source": [
    "# Plaid Access Token\n",
    "\n",
    "In this section, you will use the plaid-python api to generate the correct authentication tokens to access data in the free developer Sandbox. This mimics how you might connect to your own account or a customer account, but due to privacy issues, this homework will only require connecting to and analyzing the fake data from the developer sandbox that Plaid provides. \n",
    "\n",
    "Complete the following steps to generate an access token:\n",
    "1. Create a client to connect to paid\n",
    "2. Use the client to generate a public token and request the following items: \n",
    "['transactions', 'income', 'assets']\n",
    "3. Exchange the public token for an access token\n",
    "4. Test the access token by requesting and printing the available test accounts"
   ]
  },
  {
   "cell_type": "markdown",
   "metadata": {},
   "source": [
    "### 1. Create a client to connect to plaid"
   ]
  },
  {
   "cell_type": "code",
   "execution_count": 4,
   "metadata": {},
   "outputs": [],
   "source": [
    "# YOUR CODE HERE\n",
    "client = plaid.Client(client_id=PLAID_CLIENT_ID, secret=PLAID_SBX_SECRET_KEY, public_key=PLAID_PUBLIC_KEY, environment='sandbox')\n"
   ]
  },
  {
   "cell_type": "markdown",
   "metadata": {},
   "source": [
    "### 2. Generate a public token"
   ]
  },
  {
   "cell_type": "code",
   "execution_count": 5,
   "metadata": {},
   "outputs": [],
   "source": [
    "#Institution ID\n",
    "INSTITUTION_ID= \"ins_109508\"\n"
   ]
  },
  {
   "cell_type": "code",
   "execution_count": 6,
   "metadata": {},
   "outputs": [],
   "source": [
    "# YOUR CODE HERE\n",
    "create_tkn_response = client.Sandbox.public_token.create(INSTITUTION_ID, ['transactions','income','assets'])"
   ]
  },
  {
   "cell_type": "markdown",
   "metadata": {},
   "source": [
    "### 3. Exchange the public token for an access token"
   ]
  },
  {
   "cell_type": "code",
   "execution_count": 7,
   "metadata": {},
   "outputs": [],
   "source": [
    "# Create public token to be exchanged for institution access token\n",
    "create_tkn_response = client.Sandbox.public_token.create(INSTITUTION_ID, ['transactions','income','assets'])\n",
    "\n",
    "# Exchange public token for access token\n",
    "exchange_response = client.Item.public_token.exchange(create_tkn_response['public_token'])\n",
    "\n",
    "# Store access token as variable\n",
    "access_token = exchange_response['access_token']"
   ]
  },
  {
   "cell_type": "markdown",
   "metadata": {},
   "source": [
    "### 4. Fetch Accounts"
   ]
  },
  {
   "cell_type": "code",
   "execution_count": 8,
   "metadata": {},
   "outputs": [
    {
     "data": {
      "text/plain": [
       "{'accounts': [{'account_id': 'A6yzQmdnGguab8dry8gWC4ydRJnQE7c1wGkjr',\n",
       "   'balances': {'available': 100,\n",
       "    'current': 110,\n",
       "    'iso_currency_code': 'USD',\n",
       "    'limit': None,\n",
       "    'unofficial_currency_code': None},\n",
       "   'mask': '0000',\n",
       "   'name': 'Plaid Checking',\n",
       "   'official_name': 'Plaid Gold Standard 0% Interest Checking',\n",
       "   'subtype': 'checking',\n",
       "   'type': 'depository'},\n",
       "  {'account_id': '3okEBN6K7aU89WxdwWZKhdEyve1JK5FqJoLZR',\n",
       "   'balances': {'available': 200,\n",
       "    'current': 210,\n",
       "    'iso_currency_code': 'USD',\n",
       "    'limit': None,\n",
       "    'unofficial_currency_code': None},\n",
       "   'mask': '1111',\n",
       "   'name': 'Plaid Saving',\n",
       "   'official_name': 'Plaid Silver Standard 0.1% Interest Saving',\n",
       "   'subtype': 'savings',\n",
       "   'type': 'depository'},\n",
       "  {'account_id': 'xyk8BJpreoumgAeVoAQaCQDpRP4njwsnwlZ6e',\n",
       "   'balances': {'available': None,\n",
       "    'current': 1000,\n",
       "    'iso_currency_code': 'USD',\n",
       "    'limit': None,\n",
       "    'unofficial_currency_code': None},\n",
       "   'mask': '2222',\n",
       "   'name': 'Plaid CD',\n",
       "   'official_name': 'Plaid Bronze Standard 0.2% Interest CD',\n",
       "   'subtype': 'cd',\n",
       "   'type': 'depository'},\n",
       "  {'account_id': 'dB7zdrqwnKFvMqroGqpXCaPpbZQGeLFZNgqJn',\n",
       "   'balances': {'available': None,\n",
       "    'current': 410,\n",
       "    'iso_currency_code': 'USD',\n",
       "    'limit': 2000,\n",
       "    'unofficial_currency_code': None},\n",
       "   'mask': '3333',\n",
       "   'name': 'Plaid Credit Card',\n",
       "   'official_name': 'Plaid Diamond 12.5% APR Interest Credit Card',\n",
       "   'subtype': 'credit card',\n",
       "   'type': 'credit'},\n",
       "  {'account_id': 'aKNqdlweWAT5kjLAQjaribWa64MdEzt74dvZ6',\n",
       "   'balances': {'available': 43200,\n",
       "    'current': 43200,\n",
       "    'iso_currency_code': 'USD',\n",
       "    'limit': None,\n",
       "    'unofficial_currency_code': None},\n",
       "   'mask': '4444',\n",
       "   'name': 'Plaid Money Market',\n",
       "   'official_name': 'Plaid Platinum Standard 1.85% Interest Money Market',\n",
       "   'subtype': 'money market',\n",
       "   'type': 'depository'},\n",
       "  {'account_id': '4DyWvPXre4C8gqPprqJ3hnzywJ5E3eCd5DKJV',\n",
       "   'balances': {'available': None,\n",
       "    'current': 320.76,\n",
       "    'iso_currency_code': 'USD',\n",
       "    'limit': None,\n",
       "    'unofficial_currency_code': None},\n",
       "   'mask': '5555',\n",
       "   'name': 'Plaid IRA',\n",
       "   'official_name': None,\n",
       "   'subtype': 'ira',\n",
       "   'type': 'investment'},\n",
       "  {'account_id': 'N6aZw9pRxduo3mpWemg1C64g1djkx3CWZezy6',\n",
       "   'balances': {'available': None,\n",
       "    'current': 23631.9805,\n",
       "    'iso_currency_code': 'USD',\n",
       "    'limit': None,\n",
       "    'unofficial_currency_code': None},\n",
       "   'mask': '6666',\n",
       "   'name': 'Plaid 401k',\n",
       "   'official_name': None,\n",
       "   'subtype': '401k',\n",
       "   'type': 'investment'},\n",
       "  {'account_id': 'P6N1ewgba4unA8glo8rKUVPryJkvwZC7d3nol',\n",
       "   'balances': {'available': None,\n",
       "    'current': 65262,\n",
       "    'iso_currency_code': 'USD',\n",
       "    'limit': None,\n",
       "    'unofficial_currency_code': None},\n",
       "   'mask': '7777',\n",
       "   'name': 'Plaid Student Loan',\n",
       "   'official_name': None,\n",
       "   'subtype': 'student',\n",
       "   'type': 'loan'}],\n",
       " 'item': {'available_products': ['auth',\n",
       "   'balance',\n",
       "   'credit_details',\n",
       "   'identity',\n",
       "   'investments',\n",
       "   'liabilities'],\n",
       "  'billed_products': ['assets', 'income', 'transactions'],\n",
       "  'error': None,\n",
       "  'institution_id': 'ins_109508',\n",
       "  'item_id': 'dB7zdrqwnKFvMqroGqpXCaPpJvRDkMtZWRjKx',\n",
       "  'webhook': ''},\n",
       " 'request_id': 'kPV17fnnvWYKht3'}"
      ]
     },
     "execution_count": 8,
     "metadata": {},
     "output_type": "execute_result"
    }
   ],
   "source": [
    "# YOUR CODE HERE\n",
    "client.Accounts.get(access_token)"
   ]
  },
  {
   "cell_type": "markdown",
   "metadata": {},
   "source": [
    "---"
   ]
  },
  {
   "cell_type": "markdown",
   "metadata": {},
   "source": [
    "# Account Transactions with Plaid\n",
    "\n",
    "In this section, you will use the Plaid Python SDK to connect to the Developer Sandbox account and grab a list of transactions. You will need to complete the following steps:\n",
    "\n",
    "\n",
    "1. Use the access token to fetch the transactions for the last 90 days\n",
    "2. Print the categories for each transaction type\n",
    "3. Create a new DataFrame using the following fields from the JSON transaction data: `date, name, amount, category`. (For categories with more than one label, just use the first category label in the list)\n",
    "4. Convert the data types to the appropriate types (i.e. datetimeindex for the date and float for the amount)"
   ]
  },
  {
   "cell_type": "markdown",
   "metadata": {},
   "source": [
    "### 1. Fetch the Transactions for the last 90 days"
   ]
  },
  {
   "cell_type": "code",
   "execution_count": 9,
   "metadata": {},
   "outputs": [],
   "source": [
    "# set start date and end date variables to get data range of last 90 days\n",
    "start_date = '{:%Y-%m-%d}'.format(datetime.datetime.now() + datetime.timedelta(-90))\n",
    "end_date = '{:%Y-%m-%d}'.format(datetime.datetime.now())\n",
    "\n",
    "# Get last 90 days with variables\n",
    "transaction_response = client.Transactions.get(access_token,start_date,end_date)"
   ]
  },
  {
   "cell_type": "markdown",
   "metadata": {},
   "source": [
    "### 2. Print the categories for each transaction"
   ]
  },
  {
   "cell_type": "code",
   "execution_count": 10,
   "metadata": {},
   "outputs": [
    {
     "data": {
      "text/plain": [
       "{'accounts': [{'account_id': 'A6yzQmdnGguab8dry8gWC4ydRJnQE7c1wGkjr',\n",
       "   'balances': {'available': 100,\n",
       "    'current': 110,\n",
       "    'iso_currency_code': 'USD',\n",
       "    'limit': None,\n",
       "    'unofficial_currency_code': None},\n",
       "   'mask': '0000',\n",
       "   'name': 'Plaid Checking',\n",
       "   'official_name': 'Plaid Gold Standard 0% Interest Checking',\n",
       "   'subtype': 'checking',\n",
       "   'type': 'depository'},\n",
       "  {'account_id': '3okEBN6K7aU89WxdwWZKhdEyve1JK5FqJoLZR',\n",
       "   'balances': {'available': 200,\n",
       "    'current': 210,\n",
       "    'iso_currency_code': 'USD',\n",
       "    'limit': None,\n",
       "    'unofficial_currency_code': None},\n",
       "   'mask': '1111',\n",
       "   'name': 'Plaid Saving',\n",
       "   'official_name': 'Plaid Silver Standard 0.1% Interest Saving',\n",
       "   'subtype': 'savings',\n",
       "   'type': 'depository'},\n",
       "  {'account_id': 'xyk8BJpreoumgAeVoAQaCQDpRP4njwsnwlZ6e',\n",
       "   'balances': {'available': None,\n",
       "    'current': 1000,\n",
       "    'iso_currency_code': 'USD',\n",
       "    'limit': None,\n",
       "    'unofficial_currency_code': None},\n",
       "   'mask': '2222',\n",
       "   'name': 'Plaid CD',\n",
       "   'official_name': 'Plaid Bronze Standard 0.2% Interest CD',\n",
       "   'subtype': 'cd',\n",
       "   'type': 'depository'},\n",
       "  {'account_id': 'dB7zdrqwnKFvMqroGqpXCaPpbZQGeLFZNgqJn',\n",
       "   'balances': {'available': None,\n",
       "    'current': 410,\n",
       "    'iso_currency_code': 'USD',\n",
       "    'limit': 2000,\n",
       "    'unofficial_currency_code': None},\n",
       "   'mask': '3333',\n",
       "   'name': 'Plaid Credit Card',\n",
       "   'official_name': 'Plaid Diamond 12.5% APR Interest Credit Card',\n",
       "   'subtype': 'credit card',\n",
       "   'type': 'credit'},\n",
       "  {'account_id': 'aKNqdlweWAT5kjLAQjaribWa64MdEzt74dvZ6',\n",
       "   'balances': {'available': 43200,\n",
       "    'current': 43200,\n",
       "    'iso_currency_code': 'USD',\n",
       "    'limit': None,\n",
       "    'unofficial_currency_code': None},\n",
       "   'mask': '4444',\n",
       "   'name': 'Plaid Money Market',\n",
       "   'official_name': 'Plaid Platinum Standard 1.85% Interest Money Market',\n",
       "   'subtype': 'money market',\n",
       "   'type': 'depository'},\n",
       "  {'account_id': '4DyWvPXre4C8gqPprqJ3hnzywJ5E3eCd5DKJV',\n",
       "   'balances': {'available': None,\n",
       "    'current': 320.76,\n",
       "    'iso_currency_code': 'USD',\n",
       "    'limit': None,\n",
       "    'unofficial_currency_code': None},\n",
       "   'mask': '5555',\n",
       "   'name': 'Plaid IRA',\n",
       "   'official_name': None,\n",
       "   'subtype': 'ira',\n",
       "   'type': 'investment'},\n",
       "  {'account_id': 'N6aZw9pRxduo3mpWemg1C64g1djkx3CWZezy6',\n",
       "   'balances': {'available': None,\n",
       "    'current': 23631.9805,\n",
       "    'iso_currency_code': 'USD',\n",
       "    'limit': None,\n",
       "    'unofficial_currency_code': None},\n",
       "   'mask': '6666',\n",
       "   'name': 'Plaid 401k',\n",
       "   'official_name': None,\n",
       "   'subtype': '401k',\n",
       "   'type': 'investment'},\n",
       "  {'account_id': 'P6N1ewgba4unA8glo8rKUVPryJkvwZC7d3nol',\n",
       "   'balances': {'available': None,\n",
       "    'current': 65262,\n",
       "    'iso_currency_code': 'USD',\n",
       "    'limit': None,\n",
       "    'unofficial_currency_code': None},\n",
       "   'mask': '7777',\n",
       "   'name': 'Plaid Student Loan',\n",
       "   'official_name': None,\n",
       "   'subtype': 'student',\n",
       "   'type': 'loan'}],\n",
       " 'item': {'available_products': ['auth',\n",
       "   'balance',\n",
       "   'credit_details',\n",
       "   'identity',\n",
       "   'investments',\n",
       "   'liabilities'],\n",
       "  'billed_products': ['assets', 'income', 'transactions'],\n",
       "  'error': None,\n",
       "  'institution_id': 'ins_109508',\n",
       "  'item_id': 'dB7zdrqwnKFvMqroGqpXCaPpJvRDkMtZWRjKx',\n",
       "  'webhook': ''},\n",
       " 'request_id': 'Icvzr1MiHlQQ4W6',\n",
       " 'total_transactions': 16,\n",
       " 'transactions': [{'account_id': 'dB7zdrqwnKFvMqroGqpXCaPpbZQGeLFZNgqJn',\n",
       "   'account_owner': None,\n",
       "   'amount': 500,\n",
       "   'category': ['Travel', 'Airlines and Aviation Services'],\n",
       "   'category_id': '22001000',\n",
       "   'date': '2019-09-03',\n",
       "   'iso_currency_code': 'USD',\n",
       "   'location': {'address': None,\n",
       "    'city': None,\n",
       "    'country': None,\n",
       "    'lat': None,\n",
       "    'lon': None,\n",
       "    'postal_code': None,\n",
       "    'region': None,\n",
       "    'store_number': None},\n",
       "   'name': 'United Airlines',\n",
       "   'payment_meta': {'by_order_of': None,\n",
       "    'payee': None,\n",
       "    'payer': None,\n",
       "    'payment_method': None,\n",
       "    'payment_processor': None,\n",
       "    'ppd_id': None,\n",
       "    'reason': None,\n",
       "    'reference_number': None},\n",
       "   'pending': False,\n",
       "   'pending_transaction_id': None,\n",
       "   'transaction_id': 'm73jLP45zNIb73zoN35ys5WP69BZb5tLZbJEQ',\n",
       "   'transaction_type': 'special',\n",
       "   'unofficial_currency_code': None},\n",
       "  {'account_id': 'A6yzQmdnGguab8dry8gWC4ydRJnQE7c1wGkjr',\n",
       "   'account_owner': None,\n",
       "   'amount': 6.33,\n",
       "   'category': ['Travel', 'Car Service', 'Ride Share'],\n",
       "   'category_id': '22006001',\n",
       "   'date': '2019-09-01',\n",
       "   'iso_currency_code': 'USD',\n",
       "   'location': {'address': None,\n",
       "    'city': None,\n",
       "    'country': None,\n",
       "    'lat': None,\n",
       "    'lon': None,\n",
       "    'postal_code': None,\n",
       "    'region': None,\n",
       "    'store_number': None},\n",
       "   'name': 'Uber 072515 SF**POOL**',\n",
       "   'payment_meta': {'by_order_of': None,\n",
       "    'payee': None,\n",
       "    'payer': None,\n",
       "    'payment_method': None,\n",
       "    'payment_processor': None,\n",
       "    'ppd_id': None,\n",
       "    'reason': None,\n",
       "    'reference_number': None},\n",
       "   'pending': False,\n",
       "   'pending_transaction_id': None,\n",
       "   'transaction_id': 'oQdeX7P53jIbaM3EjMJvsJNQbXpe1JCReayjN',\n",
       "   'transaction_type': 'special',\n",
       "   'unofficial_currency_code': None},\n",
       "  {'account_id': 'dB7zdrqwnKFvMqroGqpXCaPpbZQGeLFZNgqJn',\n",
       "   'account_owner': None,\n",
       "   'amount': 500,\n",
       "   'category': ['Food and Drink', 'Restaurants'],\n",
       "   'category_id': '13005000',\n",
       "   'date': '2019-08-29',\n",
       "   'iso_currency_code': 'USD',\n",
       "   'location': {'address': None,\n",
       "    'city': None,\n",
       "    'country': None,\n",
       "    'lat': None,\n",
       "    'lon': None,\n",
       "    'postal_code': None,\n",
       "    'region': None,\n",
       "    'store_number': None},\n",
       "   'name': 'Tectra Inc',\n",
       "   'payment_meta': {'by_order_of': None,\n",
       "    'payee': None,\n",
       "    'payer': None,\n",
       "    'payment_method': None,\n",
       "    'payment_processor': None,\n",
       "    'ppd_id': None,\n",
       "    'reason': None,\n",
       "    'reference_number': None},\n",
       "   'pending': False,\n",
       "   'pending_transaction_id': None,\n",
       "   'transaction_id': 'yyJE3poVQgup5MvEGMZQSQKLPl5wEQhyR9AGP',\n",
       "   'transaction_type': 'place',\n",
       "   'unofficial_currency_code': None},\n",
       "  {'account_id': 'dB7zdrqwnKFvMqroGqpXCaPpbZQGeLFZNgqJn',\n",
       "   'account_owner': None,\n",
       "   'amount': 2078.5,\n",
       "   'category': ['Payment'],\n",
       "   'category_id': '16000000',\n",
       "   'date': '2019-08-28',\n",
       "   'iso_currency_code': 'USD',\n",
       "   'location': {'address': None,\n",
       "    'city': None,\n",
       "    'country': None,\n",
       "    'lat': None,\n",
       "    'lon': None,\n",
       "    'postal_code': None,\n",
       "    'region': None,\n",
       "    'store_number': None},\n",
       "   'name': 'AUTOMATIC PAYMENT - THANK',\n",
       "   'payment_meta': {'by_order_of': None,\n",
       "    'payee': None,\n",
       "    'payer': None,\n",
       "    'payment_method': None,\n",
       "    'payment_processor': None,\n",
       "    'ppd_id': None,\n",
       "    'reason': None,\n",
       "    'reference_number': None},\n",
       "   'pending': False,\n",
       "   'pending_transaction_id': None,\n",
       "   'transaction_id': 'R6jpV9E8NPurDEJKBEGRfW7r5JvlyWhRVK49V',\n",
       "   'transaction_type': 'special',\n",
       "   'unofficial_currency_code': None},\n",
       "  {'account_id': 'dB7zdrqwnKFvMqroGqpXCaPpbZQGeLFZNgqJn',\n",
       "   'account_owner': None,\n",
       "   'amount': 500,\n",
       "   'category': ['Food and Drink', 'Restaurants'],\n",
       "   'category_id': '13005000',\n",
       "   'date': '2019-08-28',\n",
       "   'iso_currency_code': 'USD',\n",
       "   'location': {'address': None,\n",
       "    'city': None,\n",
       "    'country': None,\n",
       "    'lat': None,\n",
       "    'lon': None,\n",
       "    'postal_code': None,\n",
       "    'region': None,\n",
       "    'store_number': None},\n",
       "   'name': 'KFC',\n",
       "   'payment_meta': {'by_order_of': None,\n",
       "    'payee': None,\n",
       "    'payer': None,\n",
       "    'payment_method': None,\n",
       "    'payment_processor': None,\n",
       "    'ppd_id': None,\n",
       "    'reason': None,\n",
       "    'reference_number': None},\n",
       "   'pending': False,\n",
       "   'pending_transaction_id': None,\n",
       "   'transaction_id': 'vyeo5k1qjLu7qZj1mZDVCDWLbaqQ1DfWQjRp6',\n",
       "   'transaction_type': 'place',\n",
       "   'unofficial_currency_code': None},\n",
       "  {'account_id': 'dB7zdrqwnKFvMqroGqpXCaPpbZQGeLFZNgqJn',\n",
       "   'account_owner': None,\n",
       "   'amount': 500,\n",
       "   'category': ['Shops', 'Sporting Goods'],\n",
       "   'category_id': '19046000',\n",
       "   'date': '2019-08-28',\n",
       "   'iso_currency_code': 'USD',\n",
       "   'location': {'address': None,\n",
       "    'city': None,\n",
       "    'country': None,\n",
       "    'lat': None,\n",
       "    'lon': None,\n",
       "    'postal_code': None,\n",
       "    'region': None,\n",
       "    'store_number': None},\n",
       "   'name': 'Madison Bicycle Shop',\n",
       "   'payment_meta': {'by_order_of': None,\n",
       "    'payee': None,\n",
       "    'payer': None,\n",
       "    'payment_method': None,\n",
       "    'payment_processor': None,\n",
       "    'ppd_id': None,\n",
       "    'reason': None,\n",
       "    'reference_number': None},\n",
       "   'pending': False,\n",
       "   'pending_transaction_id': None,\n",
       "   'transaction_id': '9DymVZl8LeCqDpl7kpEMFwkKAl78bwCRNLDry',\n",
       "   'transaction_type': 'place',\n",
       "   'unofficial_currency_code': None},\n",
       "  {'account_id': '3okEBN6K7aU89WxdwWZKhdEyve1JK5FqJoLZR',\n",
       "   'account_owner': None,\n",
       "   'amount': 25,\n",
       "   'category': ['Payment', 'Credit Card'],\n",
       "   'category_id': '16001000',\n",
       "   'date': '2019-08-19',\n",
       "   'iso_currency_code': 'USD',\n",
       "   'location': {'address': None,\n",
       "    'city': None,\n",
       "    'country': None,\n",
       "    'lat': None,\n",
       "    'lon': None,\n",
       "    'postal_code': None,\n",
       "    'region': None,\n",
       "    'store_number': None},\n",
       "   'name': 'CREDIT CARD 3333 PAYMENT *//',\n",
       "   'payment_meta': {'by_order_of': None,\n",
       "    'payee': None,\n",
       "    'payer': None,\n",
       "    'payment_method': None,\n",
       "    'payment_processor': None,\n",
       "    'ppd_id': None,\n",
       "    'reason': None,\n",
       "    'reference_number': None},\n",
       "   'pending': False,\n",
       "   'pending_transaction_id': None,\n",
       "   'transaction_id': 'GAK43m7QlqHewj79XjkJFVrp8gZBmVt1gl3aP',\n",
       "   'transaction_type': 'special',\n",
       "   'unofficial_currency_code': None},\n",
       "  {'account_id': 'A6yzQmdnGguab8dry8gWC4ydRJnQE7c1wGkjr',\n",
       "   'account_owner': None,\n",
       "   'amount': 5.4,\n",
       "   'category': ['Travel', 'Car Service', 'Ride Share'],\n",
       "   'category_id': '22006001',\n",
       "   'date': '2019-08-19',\n",
       "   'iso_currency_code': 'USD',\n",
       "   'location': {'address': None,\n",
       "    'city': None,\n",
       "    'country': None,\n",
       "    'lat': None,\n",
       "    'lon': None,\n",
       "    'postal_code': None,\n",
       "    'region': None,\n",
       "    'store_number': None},\n",
       "   'name': 'Uber 063015 SF**POOL**',\n",
       "   'payment_meta': {'by_order_of': None,\n",
       "    'payee': None,\n",
       "    'payer': None,\n",
       "    'payment_method': None,\n",
       "    'payment_processor': None,\n",
       "    'ppd_id': None,\n",
       "    'reason': None,\n",
       "    'reference_number': None},\n",
       "   'pending': False,\n",
       "   'pending_transaction_id': None,\n",
       "   'transaction_id': 'gdlxA3zbyBtwmg9nBg1LfEmXVAdx6EUgpb1oz',\n",
       "   'transaction_type': 'special',\n",
       "   'unofficial_currency_code': None},\n",
       "  {'account_id': 'aKNqdlweWAT5kjLAQjaribWa64MdEzt74dvZ6',\n",
       "   'account_owner': None,\n",
       "   'amount': 5850,\n",
       "   'category': ['Transfer', 'Debit'],\n",
       "   'category_id': '21006000',\n",
       "   'date': '2019-08-18',\n",
       "   'iso_currency_code': 'USD',\n",
       "   'location': {'address': None,\n",
       "    'city': None,\n",
       "    'country': None,\n",
       "    'lat': None,\n",
       "    'lon': None,\n",
       "    'postal_code': None,\n",
       "    'region': None,\n",
       "    'store_number': None},\n",
       "   'name': 'ACH Electronic CreditGUSTO PAY 123456',\n",
       "   'payment_meta': {'by_order_of': None,\n",
       "    'payee': None,\n",
       "    'payer': None,\n",
       "    'payment_method': 'ACH',\n",
       "    'payment_processor': None,\n",
       "    'ppd_id': None,\n",
       "    'reason': None,\n",
       "    'reference_number': None},\n",
       "   'pending': False,\n",
       "   'pending_transaction_id': None,\n",
       "   'transaction_id': 'X6KA19m8ZMumwqBAjqKpCNwo6ByWmNfdA4EQR',\n",
       "   'transaction_type': 'special',\n",
       "   'unofficial_currency_code': None},\n",
       "  {'account_id': 'xyk8BJpreoumgAeVoAQaCQDpRP4njwsnwlZ6e',\n",
       "   'account_owner': None,\n",
       "   'amount': 1000,\n",
       "   'category': ['Transfer', 'Deposit'],\n",
       "   'category_id': '21007000',\n",
       "   'date': '2019-08-18',\n",
       "   'iso_currency_code': 'USD',\n",
       "   'location': {'address': None,\n",
       "    'city': None,\n",
       "    'country': None,\n",
       "    'lat': None,\n",
       "    'lon': None,\n",
       "    'postal_code': None,\n",
       "    'region': None,\n",
       "    'store_number': None},\n",
       "   'name': 'CD DEPOSIT .INITIAL.',\n",
       "   'payment_meta': {'by_order_of': None,\n",
       "    'payee': None,\n",
       "    'payer': None,\n",
       "    'payment_method': None,\n",
       "    'payment_processor': None,\n",
       "    'ppd_id': None,\n",
       "    'reason': None,\n",
       "    'reference_number': None},\n",
       "   'pending': False,\n",
       "   'pending_transaction_id': None,\n",
       "   'transaction_id': 'brPK3q5xAlu1z6PEl6MyFDzwxngb8DfVp5ql7',\n",
       "   'transaction_type': 'special',\n",
       "   'unofficial_currency_code': None},\n",
       "  {'account_id': 'dB7zdrqwnKFvMqroGqpXCaPpbZQGeLFZNgqJn',\n",
       "   'account_owner': None,\n",
       "   'amount': 78.5,\n",
       "   'category': ['Recreation', 'Gyms and Fitness Centers'],\n",
       "   'category_id': '17018000',\n",
       "   'date': '2019-08-17',\n",
       "   'iso_currency_code': 'USD',\n",
       "   'location': {'address': None,\n",
       "    'city': None,\n",
       "    'country': None,\n",
       "    'lat': None,\n",
       "    'lon': None,\n",
       "    'postal_code': None,\n",
       "    'region': None,\n",
       "    'store_number': None},\n",
       "   'name': 'Touchstone Climbing',\n",
       "   'payment_meta': {'by_order_of': None,\n",
       "    'payee': None,\n",
       "    'payer': None,\n",
       "    'payment_method': None,\n",
       "    'payment_processor': None,\n",
       "    'ppd_id': None,\n",
       "    'reason': None,\n",
       "    'reference_number': None},\n",
       "   'pending': False,\n",
       "   'pending_transaction_id': None,\n",
       "   'transaction_id': '65yGm7VgZPF84v5bevydhAe4b865aAHg7W36B',\n",
       "   'transaction_type': 'place',\n",
       "   'unofficial_currency_code': None},\n",
       "  {'account_id': 'A6yzQmdnGguab8dry8gWC4ydRJnQE7c1wGkjr',\n",
       "   'account_owner': None,\n",
       "   'amount': -500,\n",
       "   'category': ['Travel', 'Airlines and Aviation Services'],\n",
       "   'category_id': '22001000',\n",
       "   'date': '2019-08-17',\n",
       "   'iso_currency_code': 'USD',\n",
       "   'location': {'address': None,\n",
       "    'city': None,\n",
       "    'country': None,\n",
       "    'lat': None,\n",
       "    'lon': None,\n",
       "    'postal_code': None,\n",
       "    'region': None,\n",
       "    'store_number': None},\n",
       "   'name': 'United Airlines',\n",
       "   'payment_meta': {'by_order_of': None,\n",
       "    'payee': None,\n",
       "    'payer': None,\n",
       "    'payment_method': None,\n",
       "    'payment_processor': None,\n",
       "    'ppd_id': None,\n",
       "    'reason': None,\n",
       "    'reference_number': None},\n",
       "   'pending': False,\n",
       "   'pending_transaction_id': None,\n",
       "   'transaction_id': '8AybwQ5p17HlEaXJvaQ6ilvodrGLWltwoAmnq',\n",
       "   'transaction_type': 'special',\n",
       "   'unofficial_currency_code': None},\n",
       "  {'account_id': 'A6yzQmdnGguab8dry8gWC4ydRJnQE7c1wGkjr',\n",
       "   'account_owner': None,\n",
       "   'amount': 12,\n",
       "   'category': ['Food and Drink', 'Restaurants'],\n",
       "   'category_id': '13005000',\n",
       "   'date': '2019-08-16',\n",
       "   'iso_currency_code': 'USD',\n",
       "   'location': {'address': None,\n",
       "    'city': None,\n",
       "    'country': None,\n",
       "    'lat': None,\n",
       "    'lon': None,\n",
       "    'postal_code': None,\n",
       "    'region': None,\n",
       "    'store_number': '3322'},\n",
       "   'name': \"McDonald's\",\n",
       "   'payment_meta': {'by_order_of': None,\n",
       "    'payee': None,\n",
       "    'payer': None,\n",
       "    'payment_method': None,\n",
       "    'payment_processor': None,\n",
       "    'ppd_id': None,\n",
       "    'reason': None,\n",
       "    'reference_number': None},\n",
       "   'pending': False,\n",
       "   'pending_transaction_id': None,\n",
       "   'transaction_id': 'EbldN6P9yAtjvpPxbpZefVqzyJ9ReVtXnwly1',\n",
       "   'transaction_type': 'place',\n",
       "   'unofficial_currency_code': None},\n",
       "  {'account_id': 'A6yzQmdnGguab8dry8gWC4ydRJnQE7c1wGkjr',\n",
       "   'account_owner': None,\n",
       "   'amount': 4.33,\n",
       "   'category': ['Food and Drink', 'Restaurants', 'Coffee Shop'],\n",
       "   'category_id': '13005043',\n",
       "   'date': '2019-08-16',\n",
       "   'iso_currency_code': 'USD',\n",
       "   'location': {'address': None,\n",
       "    'city': None,\n",
       "    'country': None,\n",
       "    'lat': None,\n",
       "    'lon': None,\n",
       "    'postal_code': None,\n",
       "    'region': None,\n",
       "    'store_number': None},\n",
       "   'name': 'Starbucks',\n",
       "   'payment_meta': {'by_order_of': None,\n",
       "    'payee': None,\n",
       "    'payer': None,\n",
       "    'payment_method': None,\n",
       "    'payment_processor': None,\n",
       "    'ppd_id': None,\n",
       "    'reason': None,\n",
       "    'reference_number': None},\n",
       "   'pending': False,\n",
       "   'pending_transaction_id': None,\n",
       "   'transaction_id': 'WVqW89bRQZud73LxB3e4tD1qBEg95DflzrER7',\n",
       "   'transaction_type': 'place',\n",
       "   'unofficial_currency_code': None},\n",
       "  {'account_id': 'A6yzQmdnGguab8dry8gWC4ydRJnQE7c1wGkjr',\n",
       "   'account_owner': None,\n",
       "   'amount': 89.4,\n",
       "   'category': ['Food and Drink', 'Restaurants'],\n",
       "   'category_id': '13005000',\n",
       "   'date': '2019-08-15',\n",
       "   'iso_currency_code': 'USD',\n",
       "   'location': {'address': None,\n",
       "    'city': None,\n",
       "    'country': None,\n",
       "    'lat': None,\n",
       "    'lon': None,\n",
       "    'postal_code': None,\n",
       "    'region': None,\n",
       "    'store_number': None},\n",
       "   'name': 'SparkFun',\n",
       "   'payment_meta': {'by_order_of': None,\n",
       "    'payee': None,\n",
       "    'payer': None,\n",
       "    'payment_method': None,\n",
       "    'payment_processor': None,\n",
       "    'ppd_id': None,\n",
       "    'reason': None,\n",
       "    'reference_number': None},\n",
       "   'pending': False,\n",
       "   'pending_transaction_id': None,\n",
       "   'transaction_id': 'A6yzQmdnGguab8dry8gWC4yp8B5n64f1N7P8E',\n",
       "   'transaction_type': 'place',\n",
       "   'unofficial_currency_code': None},\n",
       "  {'account_id': '3okEBN6K7aU89WxdwWZKhdEyve1JK5FqJoLZR',\n",
       "   'account_owner': None,\n",
       "   'amount': -4.22,\n",
       "   'category': ['Transfer', 'Credit'],\n",
       "   'category_id': '21005000',\n",
       "   'date': '2019-08-14',\n",
       "   'iso_currency_code': 'USD',\n",
       "   'location': {'address': None,\n",
       "    'city': None,\n",
       "    'country': None,\n",
       "    'lat': None,\n",
       "    'lon': None,\n",
       "    'postal_code': None,\n",
       "    'region': None,\n",
       "    'store_number': None},\n",
       "   'name': 'INTRST PYMNT',\n",
       "   'payment_meta': {'by_order_of': None,\n",
       "    'payee': None,\n",
       "    'payer': None,\n",
       "    'payment_method': None,\n",
       "    'payment_processor': None,\n",
       "    'ppd_id': None,\n",
       "    'reason': None,\n",
       "    'reference_number': None},\n",
       "   'pending': False,\n",
       "   'pending_transaction_id': None,\n",
       "   'transaction_id': 'nex7pjN5kPSbEVkyPVBdsBpnGmMqyBc6qdbob',\n",
       "   'transaction_type': 'special',\n",
       "   'unofficial_currency_code': None}]}"
      ]
     },
     "execution_count": 10,
     "metadata": {},
     "output_type": "execute_result"
    }
   ],
   "source": [
    "transaction_response"
   ]
  },
  {
   "cell_type": "code",
   "execution_count": 11,
   "metadata": {},
   "outputs": [
    {
     "data": {
      "text/plain": [
       "['Food and Drink', 'Restaurants']"
      ]
     },
     "execution_count": 11,
     "metadata": {},
     "output_type": "execute_result"
    }
   ],
   "source": [
    "transaction_response['transactions'][2]['category']"
   ]
  },
  {
   "cell_type": "code",
   "execution_count": 12,
   "metadata": {},
   "outputs": [
    {
     "name": "stdout",
     "output_type": "stream",
     "text": [
      "2019-09-03 ['Travel', 'Airlines and Aviation Services'] 500\n",
      "2019-09-01 ['Travel', 'Car Service', 'Ride Share'] 6.33\n",
      "2019-08-29 ['Food and Drink', 'Restaurants'] 500\n",
      "2019-08-28 ['Payment'] 2078.5\n",
      "2019-08-28 ['Food and Drink', 'Restaurants'] 500\n",
      "2019-08-28 ['Shops', 'Sporting Goods'] 500\n",
      "2019-08-19 ['Payment', 'Credit Card'] 25\n",
      "2019-08-19 ['Travel', 'Car Service', 'Ride Share'] 5.4\n",
      "2019-08-18 ['Transfer', 'Debit'] 5850\n",
      "2019-08-18 ['Transfer', 'Deposit'] 1000\n",
      "2019-08-17 ['Recreation', 'Gyms and Fitness Centers'] 78.5\n",
      "2019-08-17 ['Travel', 'Airlines and Aviation Services'] -500\n",
      "2019-08-16 ['Food and Drink', 'Restaurants'] 12\n",
      "2019-08-16 ['Food and Drink', 'Restaurants', 'Coffee Shop'] 4.33\n",
      "2019-08-15 ['Food and Drink', 'Restaurants'] 89.4\n",
      "2019-08-14 ['Transfer', 'Credit'] -4.22\n"
     ]
    }
   ],
   "source": [
    "# YOUR CODE HERE\n",
    "#Print categories for each transaction\n",
    "for transaction in transaction_response ['transactions']:\n",
    "    print(transaction['date'], transaction['category'], transaction['amount'])"
   ]
  },
  {
   "cell_type": "markdown",
   "metadata": {},
   "source": [
    "### 3. Create a new DataFrame using the following fields from the JSON transaction data: date, name, amount, category. \n",
    "\n",
    "(For categories with more than one label, just use the first category label in the list)"
   ]
  },
  {
   "cell_type": "code",
   "execution_count": 13,
   "metadata": {},
   "outputs": [],
   "source": [
    "#harold_budget = transaction_response.groupby([ticker_data.index.year, ticker_data.index.month, ticker_data.index.day]).first()\n",
    "#ticker_data_grp.head()"
   ]
  },
  {
   "cell_type": "code",
   "execution_count": 14,
   "metadata": {},
   "outputs": [],
   "source": [
    "# YOUR CODE HERE\n",
    "harold_budget= transaction_response\n",
    "#transaction_df= pd.DataFrame()\n",
    "#harold_budget['transactions']\n",
    "date= []\n",
    "name= []\n",
    "amount= []\n",
    "category= []\n",
    "\n",
    "for transactions in harold_budget['transactions']:\n",
    "    date.append(transactions['date'])\n",
    "    name.append(transactions['name'])\n",
    "    amount.append(transactions['amount'])\n",
    "    category.append(transactions['category'][0])\n",
    "#   print(json.dumps(harold_budget['transactions'], sort_keys=True))\n",
    "#    print(transactions['date'], transactions['name'], transactions['amount'], transactions['category'])"
   ]
  },
  {
   "cell_type": "code",
   "execution_count": 15,
   "metadata": {},
   "outputs": [
    {
     "data": {
      "text/html": [
       "<div>\n",
       "<style scoped>\n",
       "    .dataframe tbody tr th:only-of-type {\n",
       "        vertical-align: middle;\n",
       "    }\n",
       "\n",
       "    .dataframe tbody tr th {\n",
       "        vertical-align: top;\n",
       "    }\n",
       "\n",
       "    .dataframe thead th {\n",
       "        text-align: right;\n",
       "    }\n",
       "</style>\n",
       "<table border=\"1\" class=\"dataframe\">\n",
       "  <thead>\n",
       "    <tr style=\"text-align: right;\">\n",
       "      <th></th>\n",
       "      <th>date</th>\n",
       "      <th>name</th>\n",
       "      <th>amount</th>\n",
       "      <th>category</th>\n",
       "    </tr>\n",
       "  </thead>\n",
       "  <tbody>\n",
       "    <tr>\n",
       "      <th>0</th>\n",
       "      <td>2019-09-03</td>\n",
       "      <td>United Airlines</td>\n",
       "      <td>500.00</td>\n",
       "      <td>Travel</td>\n",
       "    </tr>\n",
       "    <tr>\n",
       "      <th>1</th>\n",
       "      <td>2019-09-01</td>\n",
       "      <td>Uber 072515 SF**POOL**</td>\n",
       "      <td>6.33</td>\n",
       "      <td>Travel</td>\n",
       "    </tr>\n",
       "    <tr>\n",
       "      <th>2</th>\n",
       "      <td>2019-08-29</td>\n",
       "      <td>Tectra Inc</td>\n",
       "      <td>500.00</td>\n",
       "      <td>Food and Drink</td>\n",
       "    </tr>\n",
       "    <tr>\n",
       "      <th>3</th>\n",
       "      <td>2019-08-28</td>\n",
       "      <td>AUTOMATIC PAYMENT - THANK</td>\n",
       "      <td>2078.50</td>\n",
       "      <td>Payment</td>\n",
       "    </tr>\n",
       "    <tr>\n",
       "      <th>4</th>\n",
       "      <td>2019-08-28</td>\n",
       "      <td>KFC</td>\n",
       "      <td>500.00</td>\n",
       "      <td>Food and Drink</td>\n",
       "    </tr>\n",
       "  </tbody>\n",
       "</table>\n",
       "</div>"
      ],
      "text/plain": [
       "         date                       name   amount        category\n",
       "0  2019-09-03            United Airlines   500.00          Travel\n",
       "1  2019-09-01     Uber 072515 SF**POOL**     6.33          Travel\n",
       "2  2019-08-29                 Tectra Inc   500.00  Food and Drink\n",
       "3  2019-08-28  AUTOMATIC PAYMENT - THANK  2078.50         Payment\n",
       "4  2019-08-28                        KFC   500.00  Food and Drink"
      ]
     },
     "execution_count": 15,
     "metadata": {},
     "output_type": "execute_result"
    }
   ],
   "source": [
    "transaction_df= pd.DataFrame({\n",
    "    'date': date,\n",
    "    'name': name,\n",
    "    'amount': amount,\n",
    "    'category': category\n",
    "    \n",
    "})\n",
    "transaction_df.head()"
   ]
  },
  {
   "cell_type": "markdown",
   "metadata": {},
   "source": [
    "### 4. Convert the data types to the appropriate types \n",
    "\n",
    "(i.e. datetimeindex for the date and float for the amount)"
   ]
  },
  {
   "cell_type": "code",
   "execution_count": 16,
   "metadata": {},
   "outputs": [
    {
     "data": {
      "text/plain": [
       "date         object\n",
       "name         object\n",
       "amount      float64\n",
       "category     object\n",
       "dtype: object"
      ]
     },
     "execution_count": 16,
     "metadata": {},
     "output_type": "execute_result"
    }
   ],
   "source": [
    "transaction_df.dtypes"
   ]
  },
  {
   "cell_type": "code",
   "execution_count": 17,
   "metadata": {},
   "outputs": [],
   "source": [
    "transaction_df['date']= pd.to_datetime(transaction_df['date'])"
   ]
  },
  {
   "cell_type": "code",
   "execution_count": 18,
   "metadata": {},
   "outputs": [],
   "source": [
    "# YOUR CODE HERE\n",
    "transaction_df.set_index(\"date\", inplace=True)"
   ]
  },
  {
   "cell_type": "markdown",
   "metadata": {},
   "source": [
    "---"
   ]
  },
  {
   "cell_type": "code",
   "execution_count": 19,
   "metadata": {},
   "outputs": [
    {
     "data": {
      "text/html": [
       "<div>\n",
       "<style scoped>\n",
       "    .dataframe tbody tr th:only-of-type {\n",
       "        vertical-align: middle;\n",
       "    }\n",
       "\n",
       "    .dataframe tbody tr th {\n",
       "        vertical-align: top;\n",
       "    }\n",
       "\n",
       "    .dataframe thead th {\n",
       "        text-align: right;\n",
       "    }\n",
       "</style>\n",
       "<table border=\"1\" class=\"dataframe\">\n",
       "  <thead>\n",
       "    <tr style=\"text-align: right;\">\n",
       "      <th></th>\n",
       "      <th>name</th>\n",
       "      <th>amount</th>\n",
       "      <th>category</th>\n",
       "    </tr>\n",
       "    <tr>\n",
       "      <th>date</th>\n",
       "      <th></th>\n",
       "      <th></th>\n",
       "      <th></th>\n",
       "    </tr>\n",
       "  </thead>\n",
       "  <tbody>\n",
       "    <tr>\n",
       "      <th>2019-09-03</th>\n",
       "      <td>United Airlines</td>\n",
       "      <td>500.00</td>\n",
       "      <td>Travel</td>\n",
       "    </tr>\n",
       "    <tr>\n",
       "      <th>2019-09-01</th>\n",
       "      <td>Uber 072515 SF**POOL**</td>\n",
       "      <td>6.33</td>\n",
       "      <td>Travel</td>\n",
       "    </tr>\n",
       "    <tr>\n",
       "      <th>2019-08-29</th>\n",
       "      <td>Tectra Inc</td>\n",
       "      <td>500.00</td>\n",
       "      <td>Food and Drink</td>\n",
       "    </tr>\n",
       "    <tr>\n",
       "      <th>2019-08-28</th>\n",
       "      <td>AUTOMATIC PAYMENT - THANK</td>\n",
       "      <td>2078.50</td>\n",
       "      <td>Payment</td>\n",
       "    </tr>\n",
       "    <tr>\n",
       "      <th>2019-08-28</th>\n",
       "      <td>KFC</td>\n",
       "      <td>500.00</td>\n",
       "      <td>Food and Drink</td>\n",
       "    </tr>\n",
       "    <tr>\n",
       "      <th>2019-08-28</th>\n",
       "      <td>Madison Bicycle Shop</td>\n",
       "      <td>500.00</td>\n",
       "      <td>Shops</td>\n",
       "    </tr>\n",
       "    <tr>\n",
       "      <th>2019-08-19</th>\n",
       "      <td>CREDIT CARD 3333 PAYMENT *//</td>\n",
       "      <td>25.00</td>\n",
       "      <td>Payment</td>\n",
       "    </tr>\n",
       "    <tr>\n",
       "      <th>2019-08-19</th>\n",
       "      <td>Uber 063015 SF**POOL**</td>\n",
       "      <td>5.40</td>\n",
       "      <td>Travel</td>\n",
       "    </tr>\n",
       "    <tr>\n",
       "      <th>2019-08-18</th>\n",
       "      <td>ACH Electronic CreditGUSTO PAY 123456</td>\n",
       "      <td>5850.00</td>\n",
       "      <td>Transfer</td>\n",
       "    </tr>\n",
       "    <tr>\n",
       "      <th>2019-08-18</th>\n",
       "      <td>CD DEPOSIT .INITIAL.</td>\n",
       "      <td>1000.00</td>\n",
       "      <td>Transfer</td>\n",
       "    </tr>\n",
       "    <tr>\n",
       "      <th>2019-08-17</th>\n",
       "      <td>Touchstone Climbing</td>\n",
       "      <td>78.50</td>\n",
       "      <td>Recreation</td>\n",
       "    </tr>\n",
       "    <tr>\n",
       "      <th>2019-08-17</th>\n",
       "      <td>United Airlines</td>\n",
       "      <td>-500.00</td>\n",
       "      <td>Travel</td>\n",
       "    </tr>\n",
       "    <tr>\n",
       "      <th>2019-08-16</th>\n",
       "      <td>McDonald's</td>\n",
       "      <td>12.00</td>\n",
       "      <td>Food and Drink</td>\n",
       "    </tr>\n",
       "    <tr>\n",
       "      <th>2019-08-16</th>\n",
       "      <td>Starbucks</td>\n",
       "      <td>4.33</td>\n",
       "      <td>Food and Drink</td>\n",
       "    </tr>\n",
       "    <tr>\n",
       "      <th>2019-08-15</th>\n",
       "      <td>SparkFun</td>\n",
       "      <td>89.40</td>\n",
       "      <td>Food and Drink</td>\n",
       "    </tr>\n",
       "    <tr>\n",
       "      <th>2019-08-14</th>\n",
       "      <td>INTRST PYMNT</td>\n",
       "      <td>-4.22</td>\n",
       "      <td>Transfer</td>\n",
       "    </tr>\n",
       "  </tbody>\n",
       "</table>\n",
       "</div>"
      ],
      "text/plain": [
       "                                             name   amount        category\n",
       "date                                                                      \n",
       "2019-09-03                        United Airlines   500.00          Travel\n",
       "2019-09-01                 Uber 072515 SF**POOL**     6.33          Travel\n",
       "2019-08-29                             Tectra Inc   500.00  Food and Drink\n",
       "2019-08-28              AUTOMATIC PAYMENT - THANK  2078.50         Payment\n",
       "2019-08-28                                    KFC   500.00  Food and Drink\n",
       "2019-08-28                   Madison Bicycle Shop   500.00           Shops\n",
       "2019-08-19           CREDIT CARD 3333 PAYMENT *//    25.00         Payment\n",
       "2019-08-19                 Uber 063015 SF**POOL**     5.40          Travel\n",
       "2019-08-18  ACH Electronic CreditGUSTO PAY 123456  5850.00        Transfer\n",
       "2019-08-18                   CD DEPOSIT .INITIAL.  1000.00        Transfer\n",
       "2019-08-17                    Touchstone Climbing    78.50      Recreation\n",
       "2019-08-17                        United Airlines  -500.00          Travel\n",
       "2019-08-16                             McDonald's    12.00  Food and Drink\n",
       "2019-08-16                              Starbucks     4.33  Food and Drink\n",
       "2019-08-15                               SparkFun    89.40  Food and Drink\n",
       "2019-08-14                           INTRST PYMNT    -4.22        Transfer"
      ]
     },
     "execution_count": 19,
     "metadata": {},
     "output_type": "execute_result"
    }
   ],
   "source": [
    "transaction_df"
   ]
  },
  {
   "cell_type": "markdown",
   "metadata": {},
   "source": [
    "# Income Analysis with Plaid\n",
    "\n",
    "In this section, you will use the Plaid Sandbox to complete the following:\n",
    "1. Determine the previous year's gross income and print the results\n",
    "2. Determine the current monthly income and print the results\n",
    "3. Determine the projected yearly income and print the results"
   ]
  },
  {
   "cell_type": "code",
   "execution_count": 21,
   "metadata": {},
   "outputs": [
    {
     "data": {
      "text/plain": [
       "{'income': {'income_streams': [{'confidence': 0.99,\n",
       "    'days': 690,\n",
       "    'monthly_income': 500,\n",
       "    'name': 'UNITED AIRLINES'}],\n",
       "  'last_year_income': 6000,\n",
       "  'last_year_income_before_tax': 7285,\n",
       "  'max_number_of_overlapping_income_streams': 1,\n",
       "  'number_of_income_streams': 1,\n",
       "  'projected_yearly_income': 6085,\n",
       "  'projected_yearly_income_before_tax': 7389},\n",
       " 'request_id': 'yZOt3Zg2oEhapyW'}"
      ]
     },
     "execution_count": 21,
     "metadata": {},
     "output_type": "execute_result"
    }
   ],
   "source": [
    "# YOUR CODE HERE\n",
    "income= client.Income.get(access_token)\n",
    "income"
   ]
  },
  {
   "cell_type": "code",
   "execution_count": 22,
   "metadata": {},
   "outputs": [
    {
     "data": {
      "text/plain": [
       "dict_keys(['income_streams', 'last_year_income', 'last_year_income_before_tax', 'max_number_of_overlapping_income_streams', 'number_of_income_streams', 'projected_yearly_income', 'projected_yearly_income_before_tax'])"
      ]
     },
     "execution_count": 22,
     "metadata": {},
     "output_type": "execute_result"
    }
   ],
   "source": [
    "income[\"income\"].keys()"
   ]
  },
  {
   "cell_type": "markdown",
   "metadata": {},
   "source": [
    "---"
   ]
  },
  {
   "cell_type": "code",
   "execution_count": 23,
   "metadata": {},
   "outputs": [
    {
     "name": "stdout",
     "output_type": "stream",
     "text": [
      "Your income last year was $ 7285\n"
     ]
    }
   ],
   "source": [
    "print(\"Your income last year was $\",income['income']['last_year_income_before_tax'])"
   ]
  },
  {
   "cell_type": "code",
   "execution_count": 24,
   "metadata": {},
   "outputs": [
    {
     "name": "stdout",
     "output_type": "stream",
     "text": [
      "Your monthly income is $ 500\n"
     ]
    }
   ],
   "source": [
    "#monthly income\n",
    "print(\"Your monthly income is $\", income['income']['income_streams'][0]['monthly_income'])"
   ]
  },
  {
   "cell_type": "code",
   "execution_count": 25,
   "metadata": {},
   "outputs": [
    {
     "name": "stdout",
     "output_type": "stream",
     "text": [
      "Your projected yearly income is $ 6085\n"
     ]
    }
   ],
   "source": [
    "#Determine the projected yearly income and print the results\n",
    "print(\"Your projected yearly income is $\", income['income']['projected_yearly_income'])"
   ]
  },
  {
   "cell_type": "markdown",
   "metadata": {},
   "source": [
    "# Budget Analysis\n",
    "In this section, you will use the transactions DataFrame to analyze the customer's budget\n",
    "\n",
    "1. Calculate the total spending per category and print the results (Hint: groupby or count transactions per category)\n",
    "2. Generate a bar chart with the number of transactions for each category \n",
    "3. Calulate the expenses per month\n",
    "4. Plot the total expenses per month"
   ]
  },
  {
   "cell_type": "code",
   "execution_count": 26,
   "metadata": {},
   "outputs": [
    {
     "data": {
      "text/plain": [
       "category\n",
       "Food and Drink    1105.73\n",
       "Payment           2103.50\n",
       "Recreation          78.50\n",
       "Shops              500.00\n",
       "Transfer          6845.78\n",
       "Travel              11.73\n",
       "Name: amount, dtype: float64"
      ]
     },
     "execution_count": 26,
     "metadata": {},
     "output_type": "execute_result"
    }
   ],
   "source": [
    "#calculate total spending per category\n",
    "trandf= transaction_df.groupby(transaction_df.category)['amount'].sum()\n",
    "trandf"
   ]
  },
  {
   "cell_type": "code",
   "execution_count": 36,
   "metadata": {},
   "outputs": [
    {
     "data": {
      "text/plain": [
       "<matplotlib.axes._subplots.AxesSubplot at 0x232822e62b0>"
      ]
     },
     "execution_count": 36,
     "metadata": {},
     "output_type": "execute_result"
    },
    {
     "data": {
      "image/png": "[encoded data removed]",
      "text/plain": [
       "<Figure size 432x288 with 1 Axes>"
      ]
     },
     "metadata": {},
     "output_type": "display_data"
    }
   ],
   "source": [
    "trandf.plot(\"pie\")"
   ]
  },
  {
   "cell_type": "code",
   "execution_count": 28,
   "metadata": {},
   "outputs": [
    {
     "data": {
      "text/html": [
       "<div>\n",
       "<style scoped>\n",
       "    .dataframe tbody tr th:only-of-type {\n",
       "        vertical-align: middle;\n",
       "    }\n",
       "\n",
       "    .dataframe tbody tr th {\n",
       "        vertical-align: top;\n",
       "    }\n",
       "\n",
       "    .dataframe thead th {\n",
       "        text-align: right;\n",
       "    }\n",
       "</style>\n",
       "<table border=\"1\" class=\"dataframe\">\n",
       "  <thead>\n",
       "    <tr style=\"text-align: right;\">\n",
       "      <th></th>\n",
       "      <th>name</th>\n",
       "      <th>amount</th>\n",
       "    </tr>\n",
       "    <tr>\n",
       "      <th>category</th>\n",
       "      <th></th>\n",
       "      <th></th>\n",
       "    </tr>\n",
       "  </thead>\n",
       "  <tbody>\n",
       "    <tr>\n",
       "      <th>Food and Drink</th>\n",
       "      <td>5</td>\n",
       "      <td>5</td>\n",
       "    </tr>\n",
       "    <tr>\n",
       "      <th>Payment</th>\n",
       "      <td>2</td>\n",
       "      <td>2</td>\n",
       "    </tr>\n",
       "    <tr>\n",
       "      <th>Recreation</th>\n",
       "      <td>1</td>\n",
       "      <td>1</td>\n",
       "    </tr>\n",
       "    <tr>\n",
       "      <th>Shops</th>\n",
       "      <td>1</td>\n",
       "      <td>1</td>\n",
       "    </tr>\n",
       "    <tr>\n",
       "      <th>Transfer</th>\n",
       "      <td>3</td>\n",
       "      <td>3</td>\n",
       "    </tr>\n",
       "    <tr>\n",
       "      <th>Travel</th>\n",
       "      <td>4</td>\n",
       "      <td>4</td>\n",
       "    </tr>\n",
       "  </tbody>\n",
       "</table>\n",
       "</div>"
      ],
      "text/plain": [
       "                name  amount\n",
       "category                    \n",
       "Food and Drink     5       5\n",
       "Payment            2       2\n",
       "Recreation         1       1\n",
       "Shops              1       1\n",
       "Transfer           3       3\n",
       "Travel             4       4"
      ]
     },
     "execution_count": 28,
     "metadata": {},
     "output_type": "execute_result"
    }
   ],
   "source": [
    "transaction_df.groupby(['category']).count()"
   ]
  },
  {
   "cell_type": "code",
   "execution_count": 29,
   "metadata": {},
   "outputs": [
    {
     "data": {
      "image/png": "[encoded data removed]",
      "text/plain": [
       "<Figure size 432x288 with 1 Axes>"
      ]
     },
     "metadata": {
      "needs_background": "light"
     },
     "output_type": "display_data"
    }
   ],
   "source": [
    "#Generate a bar chart with the number of transactions for each category\n",
    "transaction_df.groupby(['category']).count().plot(kind='bar', title= \"Number of expenses per category\")\n",
    "L= plt.legend()\n",
    "L.get_texts()[0].set_text('Number of transactions')"
   ]
  },
  {
   "cell_type": "markdown",
   "metadata": {},
   "source": [
    "### Calculate the expenses per category"
   ]
  },
  {
   "cell_type": "code",
   "execution_count": 30,
   "metadata": {},
   "outputs": [
    {
     "data": {
      "text/html": [
       "<div>\n",
       "<style scoped>\n",
       "    .dataframe tbody tr th:only-of-type {\n",
       "        vertical-align: middle;\n",
       "    }\n",
       "\n",
       "    .dataframe tbody tr th {\n",
       "        vertical-align: top;\n",
       "    }\n",
       "\n",
       "    .dataframe thead th {\n",
       "        text-align: right;\n",
       "    }\n",
       "</style>\n",
       "<table border=\"1\" class=\"dataframe\">\n",
       "  <thead>\n",
       "    <tr style=\"text-align: right;\">\n",
       "      <th></th>\n",
       "      <th>amount</th>\n",
       "    </tr>\n",
       "    <tr>\n",
       "      <th>category</th>\n",
       "      <th></th>\n",
       "    </tr>\n",
       "  </thead>\n",
       "  <tbody>\n",
       "    <tr>\n",
       "      <th>Food and Drink</th>\n",
       "      <td>1105.73</td>\n",
       "    </tr>\n",
       "    <tr>\n",
       "      <th>Payment</th>\n",
       "      <td>2103.50</td>\n",
       "    </tr>\n",
       "    <tr>\n",
       "      <th>Recreation</th>\n",
       "      <td>78.50</td>\n",
       "    </tr>\n",
       "    <tr>\n",
       "      <th>Shops</th>\n",
       "      <td>500.00</td>\n",
       "    </tr>\n",
       "    <tr>\n",
       "      <th>Transfer</th>\n",
       "      <td>6845.78</td>\n",
       "    </tr>\n",
       "    <tr>\n",
       "      <th>Travel</th>\n",
       "      <td>11.73</td>\n",
       "    </tr>\n",
       "  </tbody>\n",
       "</table>\n",
       "</div>"
      ],
      "text/plain": [
       "                 amount\n",
       "category               \n",
       "Food and Drink  1105.73\n",
       "Payment         2103.50\n",
       "Recreation        78.50\n",
       "Shops            500.00\n",
       "Transfer        6845.78\n",
       "Travel            11.73"
      ]
     },
     "execution_count": 30,
     "metadata": {},
     "output_type": "execute_result"
    }
   ],
   "source": [
    "# YOUR CODE HERE\n",
    "transaction_df.groupby(['category']).sum()"
   ]
  },
  {
   "cell_type": "markdown",
   "metadata": {},
   "source": [
    "### Calculate the expenses per month"
   ]
  },
  {
   "cell_type": "code",
   "execution_count": 31,
   "metadata": {},
   "outputs": [
    {
     "data": {
      "text/plain": [
       "Int64Index([9, 9, 8, 8, 8, 8, 8, 8, 8, 8, 8, 8, 8, 8, 8, 8], dtype='int64', name='date')"
      ]
     },
     "execution_count": 31,
     "metadata": {},
     "output_type": "execute_result"
    }
   ],
   "source": [
    "transaction_df.index.month"
   ]
  },
  {
   "cell_type": "code",
   "execution_count": 32,
   "metadata": {},
   "outputs": [],
   "source": [
    "transaction_df['month']= transaction_df.index.month"
   ]
  },
  {
   "cell_type": "code",
   "execution_count": 33,
   "metadata": {},
   "outputs": [
    {
     "data": {
      "text/html": [
       "<div>\n",
       "<style scoped>\n",
       "    .dataframe tbody tr th:only-of-type {\n",
       "        vertical-align: middle;\n",
       "    }\n",
       "\n",
       "    .dataframe tbody tr th {\n",
       "        vertical-align: top;\n",
       "    }\n",
       "\n",
       "    .dataframe thead th {\n",
       "        text-align: right;\n",
       "    }\n",
       "</style>\n",
       "<table border=\"1\" class=\"dataframe\">\n",
       "  <thead>\n",
       "    <tr style=\"text-align: right;\">\n",
       "      <th></th>\n",
       "      <th>amount</th>\n",
       "    </tr>\n",
       "    <tr>\n",
       "      <th>month</th>\n",
       "      <th></th>\n",
       "    </tr>\n",
       "  </thead>\n",
       "  <tbody>\n",
       "    <tr>\n",
       "      <th>8</th>\n",
       "      <td>10138.91</td>\n",
       "    </tr>\n",
       "    <tr>\n",
       "      <th>9</th>\n",
       "      <td>506.33</td>\n",
       "    </tr>\n",
       "  </tbody>\n",
       "</table>\n",
       "</div>"
      ],
      "text/plain": [
       "         amount\n",
       "month          \n",
       "8      10138.91\n",
       "9        506.33"
      ]
     },
     "execution_count": 33,
     "metadata": {},
     "output_type": "execute_result"
    }
   ],
   "source": [
    "# total expenses per month\n",
    "transaction_df.groupby(['month']).sum()"
   ]
  },
  {
   "cell_type": "code",
   "execution_count": 34,
   "metadata": {},
   "outputs": [
    {
     "data": {
      "text/plain": [
       "<matplotlib.axes._subplots.AxesSubplot at 0x232822b0630>"
      ]
     },
     "execution_count": 34,
     "metadata": {},
     "output_type": "execute_result"
    },
    {
     "data": {
      "image/png": "[encoded data removed]",
      "text/plain": [
       "<Figure size 432x288 with 1 Axes>"
      ]
     },
     "metadata": {
      "needs_background": "light"
     },
     "output_type": "display_data"
    }
   ],
   "source": [
    "#plot total expenses per month\n",
    "transaction_df.groupby(['month']).sum().plot(title=\"total expenses per month\",)"
   ]
  },
  {
   "cell_type": "code",
   "execution_count": null,
   "metadata": {},
   "outputs": [],
   "source": []
  },
  {
   "cell_type": "code",
   "execution_count": null,
   "metadata": {},
   "outputs": [],
   "source": []
  }
 ],
 "metadata": {
  "kernel_info": {
   "name": "dev"
  },
  "kernelspec": {
   "display_name": "Python 3",
   "language": "python",
   "name": "python3"
  },
  "language_info": {
   "codemirror_mode": {
    "name": "ipython",
    "version": 3
   },
   "file_extension": ".py",
   "mimetype": "text/x-python",
   "name": "python",
   "nbconvert_exporter": "python",
   "pygments_lexer": "ipython3",
   "version": "3.7.3"
  },
  "nteract": {
   "version": "0.12.3"
  }
 },
 "nbformat": 4,
 "nbformat_minor": 4
}
